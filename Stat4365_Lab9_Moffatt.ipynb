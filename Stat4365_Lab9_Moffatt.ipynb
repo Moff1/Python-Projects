{
 "cells": [
  {
   "cell_type": "code",
   "execution_count": null,
   "id": "5b77eeae",
   "metadata": {},
   "outputs": [],
   "source": [
    "%load_ext sql"
   ]
  },
  {
   "cell_type": "code",
   "execution_count": null,
   "id": "73d5b7f7",
   "metadata": {},
   "outputs": [],
   "source": [
    "%%sql\n",
    "\n",
    "sqlite:///studentinfo.db"
   ]
  },
  {
   "cell_type": "code",
   "execution_count": null,
   "id": "a383ce14",
   "metadata": {},
   "outputs": [],
   "source": [
    "%%sql\n",
    "\n",
    "CREATE TABLE Departments (courseID TEXT, department TEXT)"
   ]
  },
  {
   "cell_type": "code",
   "execution_count": null,
   "id": "6caab6f4",
   "metadata": {},
   "outputs": [],
   "source": [
    "%%sql\n",
    "\n",
    "INSERT INTO Departments\n",
    "values (\"STAT4365\", \"STAT\"),(\"STAT4342\", \"STAT 2\"),(\"STAT4510\", \"STAT 1\")"
   ]
  },
  {
   "cell_type": "code",
   "execution_count": null,
   "id": "b578f2ee",
   "metadata": {},
   "outputs": [],
   "source": [
    "%%sql\n",
    "\n",
    "CREATE TABLE Students1 (StudentId TEXT, FirstName TEXT, LastName TEXT, Age NUM, GPA NUM)"
   ]
  },
  {
   "cell_type": "code",
   "execution_count": null,
   "id": "0af09b8f",
   "metadata": {},
   "outputs": [],
   "source": [
    "%%sql\n",
    "\n",
    "INSERT INTO Students1\n",
    "values (\"8237488\", \"Jojo\",\"Kujo\", 25, 3.7),\n",
    "(\"823241238\", \"Jotaro\",\"Joestar\", 21, 4.0),\n",
    "(\"82334343\", \"Jonathan\",\"Giovanna\", 24, 3.8)\n"
   ]
  },
  {
   "cell_type": "code",
   "execution_count": null,
   "id": "5aa14e6e",
   "metadata": {},
   "outputs": [],
   "source": [
    "%%sql\n",
    "\n",
    "CREATE TABLE Courses (courseID TEXT, CourseName TEXT, StudentID TEXT)"
   ]
  },
  {
   "cell_type": "code",
   "execution_count": null,
   "id": "175e6220",
   "metadata": {},
   "outputs": [],
   "source": [
    "%%sql\n",
    "\n",
    "INSERT INTO Courses\n",
    "values (\"CSCI 4343\", \"Computer\",\"32323\"),\n",
    "(\"STAT 4365\", \"Stat 2\",\"8237488\"),\n",
    "(\"STAT 3466\", \"Stat 1\",\"325632\"),\n",
    "(\"CSCI 34343\", \"Computer 2\",\"78787\"),\n",
    "(\"SPAN 2001\", \"SPAN\",\"10293\"),\n",
    "(\"STAT 4365\", \"Data Science\",\"823241238\")"
   ]
  },
  {
   "cell_type": "code",
   "execution_count": null,
   "id": "0f0c4d22",
   "metadata": {},
   "outputs": [],
   "source": [
    "%%sql\n",
    "\n",
    "select * from Courses"
   ]
  },
  {
   "cell_type": "code",
   "execution_count": null,
   "id": "4b1ed3d5",
   "metadata": {},
   "outputs": [],
   "source": [
    "%%sql\n",
    "\n",
    "select * from Courses INNER JOIN Students1 on Students1.StudentId = Courses.StudentID"
   ]
  },
  {
   "cell_type": "code",
   "execution_count": null,
   "id": "f95c414a",
   "metadata": {},
   "outputs": [],
   "source": []
  },
  {
   "cell_type": "code",
   "execution_count": null,
   "id": "dd3aa5c5",
   "metadata": {},
   "outputs": [],
   "source": []
  }
 ],
 "metadata": {
  "kernelspec": {
   "display_name": "Python 3 (ipykernel)",
   "language": "python",
   "name": "python3"
  },
  "language_info": {
   "codemirror_mode": {
    "name": "ipython",
    "version": 3
   },
   "file_extension": ".py",
   "mimetype": "text/x-python",
   "name": "python",
   "nbconvert_exporter": "python",
   "pygments_lexer": "ipython3",
   "version": "3.9.7"
  }
 },
 "nbformat": 4,
 "nbformat_minor": 5
}
