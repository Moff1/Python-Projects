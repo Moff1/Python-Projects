{
 "cells": [
  {
   "cell_type": "code",
   "execution_count": 26,
   "id": "6f80f56a",
   "metadata": {},
   "outputs": [],
   "source": [
    "import pandas as pd\n",
    "import numpy as np\n",
    "import random\n",
    "random.seed(10)\n",
    "import matplotlib.pyplot as plt"
   ]
  },
  {
   "cell_type": "code",
   "execution_count": 27,
   "id": "230c9477",
   "metadata": {},
   "outputs": [],
   "source": [
    "NO2 = pd.read_csv(\"NO2.csv\")\n",
    "HFC = pd.read_csv(\"HFC.csv\")\n",
    "CH4 = pd.read_csv(\"CH4.csv\")\n",
    "CO2 = pd.read_csv(\"CO2.csv\")\n",
    "PFC = pd.read_csv(\"PFC.csv\")\n",
    "SF6 = pd.read_csv(\"SF6.csv\")\n",
    "\n"
   ]
  },
  {
   "cell_type": "code",
   "execution_count": 28,
   "id": "e7c91e97",
   "metadata": {},
   "outputs": [],
   "source": [
    "NO2 = pd.DataFrame(NO2)\n",
    "HFC = pd.DataFrame(HFC)\n",
    "CH4 = pd.DataFrame(CH4)\n",
    "PFC = pd.DataFrame(PFC)\n",
    "SF6 = pd.DataFrame(SF6)\n",
    "CO2 = pd.DataFrame(CO2)"
   ]
  },
  {
   "cell_type": "code",
   "execution_count": 29,
   "id": "9b9f649f",
   "metadata": {},
   "outputs": [
    {
     "data": {
      "text/plain": [
       "1250"
      ]
     },
     "execution_count": 29,
     "metadata": {},
     "output_type": "execute_result"
    }
   ],
   "source": [
    "len(SF6)"
   ]
  },
  {
   "cell_type": "code",
   "execution_count": 30,
   "id": "eae986b4",
   "metadata": {},
   "outputs": [
    {
     "data": {
      "text/plain": [
       "1012"
      ]
     },
     "execution_count": 30,
     "metadata": {},
     "output_type": "execute_result"
    }
   ],
   "source": [
    "NO2 = NO2.drop(range(1012,1290))\n",
    "NO2\n",
    "len(NO2)"
   ]
  },
  {
   "cell_type": "code",
   "execution_count": 31,
   "id": "c7c77453",
   "metadata": {},
   "outputs": [
    {
     "data": {
      "text/plain": [
       "1012"
      ]
     },
     "execution_count": 31,
     "metadata": {},
     "output_type": "execute_result"
    }
   ],
   "source": [
    "HFC = HFC.drop(range(1012,1190))\n",
    "len(HFC)"
   ]
  },
  {
   "cell_type": "code",
   "execution_count": 32,
   "id": "0fc36a58",
   "metadata": {},
   "outputs": [
    {
     "data": {
      "text/plain": [
       "1012"
      ]
     },
     "execution_count": 32,
     "metadata": {},
     "output_type": "execute_result"
    }
   ],
   "source": [
    "CH4 = CH4.drop(range(1012,1290))\n",
    "len(CH4)"
   ]
  },
  {
   "cell_type": "code",
   "execution_count": 33,
   "id": "3d81a8e0",
   "metadata": {},
   "outputs": [
    {
     "data": {
      "text/plain": [
       "1012"
      ]
     },
     "execution_count": 33,
     "metadata": {},
     "output_type": "execute_result"
    }
   ],
   "source": [
    "CO2 = CO2.drop(range(1012,1290))\n",
    "len(CO2)"
   ]
  },
  {
   "cell_type": "code",
   "execution_count": 34,
   "id": "eceb712d",
   "metadata": {},
   "outputs": [
    {
     "data": {
      "text/plain": [
       "1012"
      ]
     },
     "execution_count": 34,
     "metadata": {},
     "output_type": "execute_result"
    }
   ],
   "source": [
    "SF6 = SF6.drop(range(1012,1250))\n",
    "len(SF6)"
   ]
  },
  {
   "cell_type": "code",
   "execution_count": 35,
   "id": "15afee8c",
   "metadata": {},
   "outputs": [],
   "source": [
    "Country=NO2[\"Country or Area\"]\n",
    "WorkingData = pd.DataFrame()\n",
    "WorkingData['Country'] = Country"
   ]
  },
  {
   "cell_type": "code",
   "execution_count": 41,
   "id": "b3f6888e",
   "metadata": {},
   "outputs": [
    {
     "data": {
      "text/html": [
       "<div>\n",
       "<style scoped>\n",
       "    .dataframe tbody tr th:only-of-type {\n",
       "        vertical-align: middle;\n",
       "    }\n",
       "\n",
       "    .dataframe tbody tr th {\n",
       "        vertical-align: top;\n",
       "    }\n",
       "\n",
       "    .dataframe thead th {\n",
       "        text-align: right;\n",
       "    }\n",
       "</style>\n",
       "<table border=\"1\" class=\"dataframe\">\n",
       "  <thead>\n",
       "    <tr style=\"text-align: right;\">\n",
       "      <th></th>\n",
       "      <th>Country</th>\n",
       "    </tr>\n",
       "  </thead>\n",
       "  <tbody>\n",
       "    <tr>\n",
       "      <th>1</th>\n",
       "      <td>Australia</td>\n",
       "    </tr>\n",
       "    <tr>\n",
       "      <th>2</th>\n",
       "      <td>Australia</td>\n",
       "    </tr>\n",
       "    <tr>\n",
       "      <th>3</th>\n",
       "      <td>Australia</td>\n",
       "    </tr>\n",
       "    <tr>\n",
       "      <th>4</th>\n",
       "      <td>Australia</td>\n",
       "    </tr>\n",
       "  </tbody>\n",
       "</table>\n",
       "</div>"
      ],
      "text/plain": [
       "     Country\n",
       "1  Australia\n",
       "2  Australia\n",
       "3  Australia\n",
       "4  Australia"
      ]
     },
     "execution_count": 41,
     "metadata": {},
     "output_type": "execute_result"
    }
   ],
   "source": [
    "WorkingData[1:5]"
   ]
  },
  {
   "cell_type": "code",
   "execution_count": 42,
   "id": "3bf92be8",
   "metadata": {},
   "outputs": [
    {
     "data": {
      "text/html": [
       "<div>\n",
       "<style scoped>\n",
       "    .dataframe tbody tr th:only-of-type {\n",
       "        vertical-align: middle;\n",
       "    }\n",
       "\n",
       "    .dataframe tbody tr th {\n",
       "        vertical-align: top;\n",
       "    }\n",
       "\n",
       "    .dataframe thead th {\n",
       "        text-align: right;\n",
       "    }\n",
       "</style>\n",
       "<table border=\"1\" class=\"dataframe\">\n",
       "  <thead>\n",
       "    <tr style=\"text-align: right;\">\n",
       "      <th></th>\n",
       "      <th>Country or Area</th>\n",
       "      <th>Year</th>\n",
       "      <th>Value</th>\n",
       "    </tr>\n",
       "  </thead>\n",
       "  <tbody>\n",
       "    <tr>\n",
       "      <th>1</th>\n",
       "      <td>Australia</td>\n",
       "      <td>2018</td>\n",
       "      <td>415339.7085</td>\n",
       "    </tr>\n",
       "    <tr>\n",
       "      <th>2</th>\n",
       "      <td>Australia</td>\n",
       "      <td>2017</td>\n",
       "      <td>414597.8181</td>\n",
       "    </tr>\n",
       "    <tr>\n",
       "      <th>3</th>\n",
       "      <td>Australia</td>\n",
       "      <td>2016</td>\n",
       "      <td>410968.5195</td>\n",
       "    </tr>\n",
       "    <tr>\n",
       "      <th>4</th>\n",
       "      <td>Australia</td>\n",
       "      <td>2015</td>\n",
       "      <td>401499.3057</td>\n",
       "    </tr>\n",
       "  </tbody>\n",
       "</table>\n",
       "</div>"
      ],
      "text/plain": [
       "  Country or Area  Year        Value\n",
       "1       Australia  2018  415339.7085\n",
       "2       Australia  2017  414597.8181\n",
       "3       Australia  2016  410968.5195\n",
       "4       Australia  2015  401499.3057"
      ]
     },
     "execution_count": 42,
     "metadata": {},
     "output_type": "execute_result"
    }
   ],
   "source": [
    "CO2[1:5]"
   ]
  },
  {
   "cell_type": "code",
   "execution_count": 43,
   "id": "fd8a701b",
   "metadata": {},
   "outputs": [],
   "source": [
    "CO2C = CO2['Value']\n",
    "SF6C = SF6['Value']\n",
    "HFCC = HFC['Value']\n",
    "CH4C = CH4['Value']\n",
    "PFCC = PFC['Value']\n",
    "NO2C = NO2['Value']"
   ]
  },
  {
   "cell_type": "code",
   "execution_count": 44,
   "id": "13d26b4d",
   "metadata": {},
   "outputs": [],
   "source": [
    "WorkingData['CO2'] = CO2C\n",
    "WorkingData['SF6'] = SF6C\n",
    "WorkingData['HFC'] = HFCC\n",
    "WorkingData['PFC'] = PFCC\n",
    "WorkingData['NO2'] = NO2C\n",
    "WorkingData['CH4'] = CH4C"
   ]
  },
  {
   "cell_type": "code",
   "execution_count": 46,
   "id": "ed1a96fb",
   "metadata": {},
   "outputs": [
    {
     "data": {
      "text/html": [
       "<div>\n",
       "<style scoped>\n",
       "    .dataframe tbody tr th:only-of-type {\n",
       "        vertical-align: middle;\n",
       "    }\n",
       "\n",
       "    .dataframe tbody tr th {\n",
       "        vertical-align: top;\n",
       "    }\n",
       "\n",
       "    .dataframe thead th {\n",
       "        text-align: right;\n",
       "    }\n",
       "</style>\n",
       "<table border=\"1\" class=\"dataframe\">\n",
       "  <thead>\n",
       "    <tr style=\"text-align: right;\">\n",
       "      <th></th>\n",
       "      <th>Country</th>\n",
       "      <th>CO2</th>\n",
       "      <th>SF6</th>\n",
       "      <th>HFC</th>\n",
       "      <th>PFC</th>\n",
       "      <th>NO2</th>\n",
       "      <th>CH4</th>\n",
       "    </tr>\n",
       "  </thead>\n",
       "  <tbody>\n",
       "    <tr>\n",
       "      <th>1</th>\n",
       "      <td>Australia</td>\n",
       "      <td>415339.7085</td>\n",
       "      <td>145.265400</td>\n",
       "      <td>9273.449152</td>\n",
       "      <td>236.002704</td>\n",
       "      <td>19626.06870</td>\n",
       "      <td>105111.4476</td>\n",
       "    </tr>\n",
       "    <tr>\n",
       "      <th>2</th>\n",
       "      <td>Australia</td>\n",
       "      <td>414597.8181</td>\n",
       "      <td>115.357167</td>\n",
       "      <td>9250.631509</td>\n",
       "      <td>202.625537</td>\n",
       "      <td>20800.03484</td>\n",
       "      <td>104363.5546</td>\n",
       "    </tr>\n",
       "    <tr>\n",
       "      <th>3</th>\n",
       "      <td>Australia</td>\n",
       "      <td>410968.5195</td>\n",
       "      <td>117.125146</td>\n",
       "      <td>9218.702440</td>\n",
       "      <td>224.924134</td>\n",
       "      <td>19083.38678</td>\n",
       "      <td>102675.2073</td>\n",
       "    </tr>\n",
       "    <tr>\n",
       "      <th>4</th>\n",
       "      <td>Australia</td>\n",
       "      <td>401499.3057</td>\n",
       "      <td>116.172156</td>\n",
       "      <td>9166.519961</td>\n",
       "      <td>171.323657</td>\n",
       "      <td>19080.91113</td>\n",
       "      <td>103029.5993</td>\n",
       "    </tr>\n",
       "  </tbody>\n",
       "</table>\n",
       "</div>"
      ],
      "text/plain": [
       "     Country          CO2         SF6          HFC         PFC          NO2  \\\n",
       "1  Australia  415339.7085  145.265400  9273.449152  236.002704  19626.06870   \n",
       "2  Australia  414597.8181  115.357167  9250.631509  202.625537  20800.03484   \n",
       "3  Australia  410968.5195  117.125146  9218.702440  224.924134  19083.38678   \n",
       "4  Australia  401499.3057  116.172156  9166.519961  171.323657  19080.91113   \n",
       "\n",
       "           CH4  \n",
       "1  105111.4476  \n",
       "2  104363.5546  \n",
       "3  102675.2073  \n",
       "4  103029.5993  "
      ]
     },
     "execution_count": 46,
     "metadata": {},
     "output_type": "execute_result"
    }
   ],
   "source": [
    "WorkingData[1:5]\n"
   ]
  },
  {
   "cell_type": "code",
   "execution_count": 25,
   "id": "b9742798",
   "metadata": {},
   "outputs": [],
   "source": [
    "#Write data to csv\n",
    "#WorkingData.to_csv('DataSet2.csv')"
   ]
  },
  {
   "cell_type": "code",
   "execution_count": null,
   "id": "effff1bf",
   "metadata": {},
   "outputs": [],
   "source": []
  },
  {
   "cell_type": "code",
   "execution_count": null,
   "id": "413cfbd1",
   "metadata": {},
   "outputs": [],
   "source": []
  }
 ],
 "metadata": {
  "kernelspec": {
   "display_name": "Python 3",
   "language": "python",
   "name": "python3"
  },
  "language_info": {
   "codemirror_mode": {
    "name": "ipython",
    "version": 3
   },
   "file_extension": ".py",
   "mimetype": "text/x-python",
   "name": "python",
   "nbconvert_exporter": "python",
   "pygments_lexer": "ipython3",
   "version": "3.8.8"
  }
 },
 "nbformat": 4,
 "nbformat_minor": 5
}
