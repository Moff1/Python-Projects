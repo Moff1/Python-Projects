{
 "cells": [
  {
   "cell_type": "code",
   "execution_count": null,
   "id": "289753ee",
   "metadata": {},
   "outputs": [],
   "source": [
    "%load_ext sql"
   ]
  },
  {
   "cell_type": "code",
   "execution_count": null,
   "id": "4f776bab",
   "metadata": {},
   "outputs": [],
   "source": [
    "%sql sqlite:///chinook.db"
   ]
  },
  {
   "cell_type": "code",
   "execution_count": null,
   "id": "cca6ece4",
   "metadata": {},
   "outputs": [],
   "source": [
    "%%sql\n",
    "\n",
    "select FirstName,LastName from employees where FirstName = \"Laura\" "
   ]
  },
  {
   "cell_type": "code",
   "execution_count": null,
   "id": "a9092f5e",
   "metadata": {},
   "outputs": [],
   "source": [
    "%%sql\n",
    "\n",
    "UPDATE employees SET LastName = \"Smith\" WHERE LastName = \"Callahan\""
   ]
  },
  {
   "cell_type": "code",
   "execution_count": null,
   "id": "a6f3bcac",
   "metadata": {},
   "outputs": [],
   "source": [
    "%%sql\n",
    "select FirstName,LastName from employees where FirstName = \"Laura\" "
   ]
  }
 ],
 "metadata": {
  "kernelspec": {
   "display_name": "Python 3 (ipykernel)",
   "language": "python",
   "name": "python3"
  },
  "language_info": {
   "codemirror_mode": {
    "name": "ipython",
    "version": 3
   },
   "file_extension": ".py",
   "mimetype": "text/x-python",
   "name": "python",
   "nbconvert_exporter": "python",
   "pygments_lexer": "ipython3",
   "version": "3.9.7"
  }
 },
 "nbformat": 4,
 "nbformat_minor": 5
}
