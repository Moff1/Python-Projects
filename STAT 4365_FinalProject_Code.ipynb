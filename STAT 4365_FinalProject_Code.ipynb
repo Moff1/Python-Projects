{
 "cells": [
  {
   "cell_type": "code",
   "execution_count": 1,
   "id": "26dee1c1",
   "metadata": {},
   "outputs": [],
   "source": [
    "import pandas as pd\n",
    "import numpy as np\n",
    "import random\n",
    "import matplotlib.pyplot as plt\n",
    "%load_ext sql\n",
    "import glob"
   ]
  },
  {
   "cell_type": "code",
   "execution_count": null,
   "id": "dfbc16b3",
   "metadata": {},
   "outputs": [],
   "source": [
    "#I did a line graph because it is better to show change over time. If the multiple lines dont appear it is because the data is exactly the same\n",
    "#You can see this by uncommenting the print statements to verify.\n",
    "#Put all the files in an folder called \"Names\""
   ]
  },
  {
   "cell_type": "code",
   "execution_count": null,
   "id": "7bab5f2b",
   "metadata": {},
   "outputs": [],
   "source": [
    "def plot_names(*args,sex,begin_year = 1900, end_year = 2018):\n",
    "    x = range(begin_year,end_year)\n",
    "    Keys = []\n",
    "    Names = []\n",
    "    for i in x:\n",
    "        Keys.append(i)\n",
    "    for i in args:\n",
    "        Names.append(i)\n",
    "    Percentages = {name:{key:[] for key in Keys} for name in Names}\n",
    "\n",
    "\n",
    "    PercentageForGraph = []\n",
    "    for i in x:\n",
    "        string = str(i)\n",
    "        holder = pd.read_csv(\"Names/yob\"+string+\".txt\", header = None)\n",
    "        holderGender = holder[(holder[1] == sex)]\n",
    "        number = holderGender[2].sum()\n",
    "        #holder = holder.iloc[:, :-1]\n",
    "        #holderGender = holder[(holder[1] == sex)]\n",
    "        for name in Names:\n",
    "            NewData = holder[(holder[1] == sex) & (holder[0] == name)]\n",
    "            Percentage = (NewData[2]/number) * 100\n",
    "            Percentages[name][i] = Percentage\n",
    "        #print(NewData)\n",
    "            PercentageForGraph.append(Percentage)\n",
    "        #print(PercentageForGraph)\n",
    "    N = len(Names)\n",
    "    N = int(N)\n",
    "    graphinglist = [[] for _ in range(N)]\n",
    "    for index, item in enumerate(PercentageForGraph):\n",
    "        graphinglist[index % N].append(item)\n",
    "    #print(graphinglist)\n",
    "    for i in range(0,len(Names)): \n",
    "        plt.plot(Keys,graphinglist[i], label = Names[i])\n",
    "    \n",
    "    plt.legend()\n",
    "    plt.show()"
   ]
  },
  {
   "cell_type": "code",
   "execution_count": null,
   "id": "ba754d3b",
   "metadata": {},
   "outputs": [],
   "source": [
    "path = \"C:\\Users\\moffa\\Desktop\\Spring 2022\\Stat Programming\\Final_Project\\names\"\n",
    "all_1 = glob.glob(path+\"/*txt\")\n",
    "all_2 = (sorted(all_1))\n",
    "all_2\n",
    "\n",
    "li = []\n",
    "for filename in all2:\n",
    "    df = pd.read_csv(filename, names = [\"Name\",\"Sex\",\"Count\"])\n",
    "    li.append(df)"
   ]
  },
  {
   "cell_type": "code",
   "execution_count": null,
   "id": "b7dc3e4a",
   "metadata": {},
   "outputs": [],
   "source": [
    "def plot_topn(year,popular,sex):\n",
    "    percent = li[year-1880][li[year-1880].loc[:,'Sex']== sex].iloc[0:top].Count/sum(li[year-1880][li[year-1880].loc[:,'Sex']== sex].iloc[0:top].Count)\n",
    "    uga = li[year-1880][li[year -1880].loc[:,'Sex'] == sex].iloc[0:top].Name\n",
    "    plt.figure(figsize = (10,10))\n",
    "    plt.barh(uga,percent)\n",
    "    plt.show()\n",
    "plot_topn(2004,20,'F')"
   ]
  }
 ],
 "metadata": {
  "kernelspec": {
   "display_name": "Python 3 (ipykernel)",
   "language": "python",
   "name": "python3"
  },
  "language_info": {
   "codemirror_mode": {
    "name": "ipython",
    "version": 3
   },
   "file_extension": ".py",
   "mimetype": "text/x-python",
   "name": "python",
   "nbconvert_exporter": "python",
   "pygments_lexer": "ipython3",
   "version": "3.9.7"
  }
 },
 "nbformat": 4,
 "nbformat_minor": 5
}
