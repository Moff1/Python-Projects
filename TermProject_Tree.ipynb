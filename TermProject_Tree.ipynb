{
 "cells": [
  {
   "cell_type": "code",
   "execution_count": 1,
   "id": "6f80f56a",
   "metadata": {},
   "outputs": [],
   "source": [
    "import pandas as pd\n",
    "import numpy as np\n",
    "import random\n",
    "random.seed(10)\n",
    "import matplotlib.pyplot as plt"
   ]
  },
  {
   "cell_type": "code",
   "execution_count": 16,
   "id": "eb7bd121",
   "metadata": {},
   "outputs": [
    {
     "data": {
      "text/html": [
       "<div>\n",
       "<style scoped>\n",
       "    .dataframe tbody tr th:only-of-type {\n",
       "        vertical-align: middle;\n",
       "    }\n",
       "\n",
       "    .dataframe tbody tr th {\n",
       "        vertical-align: top;\n",
       "    }\n",
       "\n",
       "    .dataframe thead th {\n",
       "        text-align: right;\n",
       "    }\n",
       "</style>\n",
       "<table border=\"1\" class=\"dataframe\">\n",
       "  <thead>\n",
       "    <tr style=\"text-align: right;\">\n",
       "      <th></th>\n",
       "      <th>Unnamed: 0</th>\n",
       "      <th>CH4</th>\n",
       "      <th>SF6</th>\n",
       "      <th>HFC</th>\n",
       "      <th>PFC</th>\n",
       "      <th>NO2</th>\n",
       "      <th>CO2</th>\n",
       "    </tr>\n",
       "  </thead>\n",
       "  <tbody>\n",
       "    <tr>\n",
       "      <th>0</th>\n",
       "      <td>0</td>\n",
       "      <td>98903.81712</td>\n",
       "      <td>136.861720</td>\n",
       "      <td>10444.590890</td>\n",
       "      <td>303.142019</td>\n",
       "      <td>18800.57345</td>\n",
       "      <td>4.165635e+05</td>\n",
       "    </tr>\n",
       "    <tr>\n",
       "      <th>1</th>\n",
       "      <td>1</td>\n",
       "      <td>105111.44760</td>\n",
       "      <td>145.265400</td>\n",
       "      <td>9273.449152</td>\n",
       "      <td>236.002704</td>\n",
       "      <td>19626.06870</td>\n",
       "      <td>4.153397e+05</td>\n",
       "    </tr>\n",
       "    <tr>\n",
       "      <th>2</th>\n",
       "      <td>2</td>\n",
       "      <td>104363.55460</td>\n",
       "      <td>115.357167</td>\n",
       "      <td>9250.631509</td>\n",
       "      <td>202.625537</td>\n",
       "      <td>20800.03484</td>\n",
       "      <td>4.145978e+05</td>\n",
       "    </tr>\n",
       "    <tr>\n",
       "      <th>3</th>\n",
       "      <td>3</td>\n",
       "      <td>102675.20730</td>\n",
       "      <td>117.125146</td>\n",
       "      <td>9218.702440</td>\n",
       "      <td>224.924134</td>\n",
       "      <td>19083.38678</td>\n",
       "      <td>4.109685e+05</td>\n",
       "    </tr>\n",
       "    <tr>\n",
       "      <th>4</th>\n",
       "      <td>4</td>\n",
       "      <td>103029.59930</td>\n",
       "      <td>116.172156</td>\n",
       "      <td>9166.519961</td>\n",
       "      <td>171.323657</td>\n",
       "      <td>19080.91113</td>\n",
       "      <td>4.014993e+05</td>\n",
       "    </tr>\n",
       "    <tr>\n",
       "      <th>...</th>\n",
       "      <td>...</td>\n",
       "      <td>...</td>\n",
       "      <td>...</td>\n",
       "      <td>...</td>\n",
       "      <td>...</td>\n",
       "      <td>...</td>\n",
       "      <td>...</td>\n",
       "    </tr>\n",
       "    <tr>\n",
       "      <th>1007</th>\n",
       "      <td>1007</td>\n",
       "      <td>307422.14140</td>\n",
       "      <td>12.647912</td>\n",
       "      <td>15921.050250</td>\n",
       "      <td>17965.003960</td>\n",
       "      <td>72822.53045</td>\n",
       "      <td>1.495694e+06</td>\n",
       "    </tr>\n",
       "    <tr>\n",
       "      <th>1008</th>\n",
       "      <td>1008</td>\n",
       "      <td>310366.72600</td>\n",
       "      <td>11.472869</td>\n",
       "      <td>17420.516160</td>\n",
       "      <td>19484.617790</td>\n",
       "      <td>72941.49046</td>\n",
       "      <td>1.507707e+06</td>\n",
       "    </tr>\n",
       "    <tr>\n",
       "      <th>1009</th>\n",
       "      <td>1009</td>\n",
       "      <td>309824.22580</td>\n",
       "      <td>11.163929</td>\n",
       "      <td>16409.641350</td>\n",
       "      <td>19481.087040</td>\n",
       "      <td>73404.72712</td>\n",
       "      <td>1.471259e+06</td>\n",
       "    </tr>\n",
       "    <tr>\n",
       "      <th>1010</th>\n",
       "      <td>1010</td>\n",
       "      <td>306161.67970</td>\n",
       "      <td>10.154710</td>\n",
       "      <td>14363.665010</td>\n",
       "      <td>20912.457840</td>\n",
       "      <td>71662.09233</td>\n",
       "      <td>1.486301e+06</td>\n",
       "    </tr>\n",
       "    <tr>\n",
       "      <th>1011</th>\n",
       "      <td>1011</td>\n",
       "      <td>304055.48520</td>\n",
       "      <td>17.623716</td>\n",
       "      <td>11752.197280</td>\n",
       "      <td>24255.671540</td>\n",
       "      <td>72572.95489</td>\n",
       "      <td>1.458368e+06</td>\n",
       "    </tr>\n",
       "  </tbody>\n",
       "</table>\n",
       "<p>1012 rows × 7 columns</p>\n",
       "</div>"
      ],
      "text/plain": [
       "      Unnamed: 0           CH4         SF6           HFC           PFC  \\\n",
       "0              0   98903.81712  136.861720  10444.590890    303.142019   \n",
       "1              1  105111.44760  145.265400   9273.449152    236.002704   \n",
       "2              2  104363.55460  115.357167   9250.631509    202.625537   \n",
       "3              3  102675.20730  117.125146   9218.702440    224.924134   \n",
       "4              4  103029.59930  116.172156   9166.519961    171.323657   \n",
       "...          ...           ...         ...           ...           ...   \n",
       "1007        1007  307422.14140   12.647912  15921.050250  17965.003960   \n",
       "1008        1008  310366.72600   11.472869  17420.516160  19484.617790   \n",
       "1009        1009  309824.22580   11.163929  16409.641350  19481.087040   \n",
       "1010        1010  306161.67970   10.154710  14363.665010  20912.457840   \n",
       "1011        1011  304055.48520   17.623716  11752.197280  24255.671540   \n",
       "\n",
       "              NO2           CO2  \n",
       "0     18800.57345  4.165635e+05  \n",
       "1     19626.06870  4.153397e+05  \n",
       "2     20800.03484  4.145978e+05  \n",
       "3     19083.38678  4.109685e+05  \n",
       "4     19080.91113  4.014993e+05  \n",
       "...           ...           ...  \n",
       "1007  72822.53045  1.495694e+06  \n",
       "1008  72941.49046  1.507707e+06  \n",
       "1009  73404.72712  1.471259e+06  \n",
       "1010  71662.09233  1.486301e+06  \n",
       "1011  72572.95489  1.458368e+06  \n",
       "\n",
       "[1012 rows x 7 columns]"
      ]
     },
     "execution_count": 16,
     "metadata": {},
     "output_type": "execute_result"
    }
   ],
   "source": [
    "WorkingData = pd.read_csv(\"Dataset2.csv\")\n",
    "actWorkingData = WorkingData.drop('Country',axis=1)"
   ]
  },
  {
   "cell_type": "code",
   "execution_count": 17,
   "id": "a692eeee",
   "metadata": {},
   "outputs": [],
   "source": [
    "X = actWorkingData.iloc[:,1:6]\n",
    "y = actWorkingData.iloc[:,6]"
   ]
  },
  {
   "cell_type": "code",
   "execution_count": 21,
   "id": "1be02c47",
   "metadata": {},
   "outputs": [
    {
     "name": "stdout",
     "output_type": "stream",
     "text": [
      "               CH4         SF6           HFC           PFC          NO2\n",
      "0      98903.81712  136.861720  10444.590890    303.142019  18800.57345\n",
      "1     105111.44760  145.265400   9273.449152    236.002704  19626.06870\n",
      "2     104363.55460  115.357167   9250.631509    202.625537  20800.03484\n",
      "3     102675.20730  117.125146   9218.702440    224.924134  19083.38678\n",
      "4     103029.59930  116.172156   9166.519961    171.323657  19080.91113\n",
      "...            ...         ...           ...           ...          ...\n",
      "1007  307422.14140   12.647912  15921.050250  17965.003960  72822.53045\n",
      "1008  310366.72600   11.472869  17420.516160  19484.617790  72941.49046\n",
      "1009  309824.22580   11.163929  16409.641350  19481.087040  73404.72712\n",
      "1010  306161.67970   10.154710  14363.665010  20912.457840  71662.09233\n",
      "1011  304055.48520   17.623716  11752.197280  24255.671540  72572.95489\n",
      "\n",
      "[1012 rows x 5 columns]\n",
      "0       4.165635e+05\n",
      "1       4.153397e+05\n",
      "2       4.145978e+05\n",
      "3       4.109685e+05\n",
      "4       4.014993e+05\n",
      "            ...     \n",
      "1007    1.495694e+06\n",
      "1008    1.507707e+06\n",
      "1009    1.471259e+06\n",
      "1010    1.486301e+06\n",
      "1011    1.458368e+06\n",
      "Name: CO2, Length: 1012, dtype: float64\n"
     ]
    }
   ],
   "source": [
    "print(X)\n",
    "print(y)"
   ]
  },
  {
   "cell_type": "code",
   "execution_count": 22,
   "id": "c932edbf",
   "metadata": {},
   "outputs": [],
   "source": [
    "from sklearn.svm import SVR\n",
    "from sklearn.pipeline import make_pipeline\n",
    "from sklearn import tree\n",
    "from sklearn.preprocessing import StandardScaler\n",
    "from sklearn.model_selection import cross_validate\n",
    "from sklearn.metrics import make_scorer\n",
    "from sklearn.metrics import confusion_matrix\n",
    "import numpy as np\n",
    "clf = tree.DecisionTreeRegressor(max_depth=9)\n",
    "scores = cross_validate(clf, X, y, cv=3, scoring=('r2', 'neg_mean_squared_error'),\n",
    "                        return_train_score=True)\n",
    "\n"
   ]
  },
  {
   "cell_type": "code",
   "execution_count": 23,
   "id": "0ffc1ac8",
   "metadata": {},
   "outputs": [
    {
     "name": "stdout",
     "output_type": "stream",
     "text": [
      "[0.99997184 0.99987098 0.99994655]\n",
      "[ 0.97115293  0.86639213 -0.33347867]\n",
      "0.5013554614556341\n"
     ]
    }
   ],
   "source": [
    "print(scores['train_r2'])\n",
    "print(scores['test_r2'])\n",
    "import numpy as np\n",
    "print(np.mean(scores['test_r2']))"
   ]
  },
  {
   "cell_type": "code",
   "execution_count": 24,
   "id": "32d11bcb",
   "metadata": {},
   "outputs": [
    {
     "name": "stdout",
     "output_type": "stream",
     "text": [
      "-0.13842487418400853\n",
      "0.28864053907158876\n",
      "0.38468208352626904\n",
      "0.49338107220573374\n",
      "0.4702169736810198\n",
      "0.4571292121234625\n",
      "0.4926638360717977\n",
      "0.4672144518637554\n",
      "0.49461625802954906\n"
     ]
    }
   ],
   "source": [
    "import numpy as np    \n",
    "for i in range(1,10):\n",
    "    clf = tree.DecisionTreeRegressor(max_depth=i)\n",
    "    scores = cross_validate(clf, X, y, cv=3, scoring=('r2', 'neg_mean_squared_error'),\n",
    "                        return_train_score=True)\n",
    "    print(np.mean(scores['test_r2']))"
   ]
  },
  {
   "cell_type": "code",
   "execution_count": 25,
   "id": "6021c02f",
   "metadata": {
    "scrolled": false
   },
   "outputs": [
    {
     "name": "stdout",
     "output_type": "stream",
     "text": [
      "               CH4\n",
      "0      98903.81712\n",
      "1     105111.44760\n",
      "2     104363.55460\n",
      "3     102675.20730\n",
      "4     103029.59930\n",
      "...            ...\n",
      "1007  307422.14140\n",
      "1008  310366.72600\n",
      "1009  309824.22580\n",
      "1010  306161.67970\n",
      "1011  304055.48520\n",
      "\n",
      "[1012 rows x 1 columns]\n"
     ]
    }
   ],
   "source": [
    "newX = X.iloc[:,[0]]\n",
    "print(newX)"
   ]
  },
  {
   "cell_type": "code",
   "execution_count": 26,
   "id": "4bc54dc3",
   "metadata": {},
   "outputs": [],
   "source": [
    "f = []\n",
    "f.append(3)"
   ]
  },
  {
   "cell_type": "code",
   "execution_count": 27,
   "id": "ff31e606",
   "metadata": {},
   "outputs": [],
   "source": [
    "f.remove(3)"
   ]
  },
  {
   "cell_type": "code",
   "execution_count": 28,
   "id": "cf813f17",
   "metadata": {},
   "outputs": [
    {
     "name": "stdout",
     "output_type": "stream",
     "text": [
      "[]\n"
     ]
    }
   ],
   "source": [
    "print(f)"
   ]
  },
  {
   "cell_type": "code",
   "execution_count": 29,
   "id": "b9742798",
   "metadata": {
    "scrolled": true
   },
   "outputs": [
    {
     "name": "stdout",
     "output_type": "stream",
     "text": [
      "Using [0]\n",
      "TEST R2 FOR COLUMN 0IS -0.05195582289939349\n",
      "Using [1]\n",
      "TEST R2 FOR COLUMN 1IS 0.23206166739707731\n",
      "Using [2]\n",
      "TEST R2 FOR COLUMN 2IS -1.3329474915988395\n",
      "Using [3]\n",
      "TEST R2 FOR COLUMN 3IS -1.0277525540657848\n",
      "Using [4]\n",
      "TEST R2 FOR COLUMN 4IS 0.6039902900019786\n",
      "CHOSEN COLUMNS ARE [4]\n",
      "CHOSEN R2 IS [0.6039902900019786]\n",
      "Using [4, 0]\n",
      "TEST R2 FOR COLUMN 0IS 0.4731741046653893\n",
      "Using [4, 1]\n",
      "TEST R2 FOR COLUMN 1IS 0.7001996934786786\n",
      "Using [4, 2]\n",
      "TEST R2 FOR COLUMN 2IS 0.7213319022236572\n",
      "Using [4, 3]\n",
      "TEST R2 FOR COLUMN 3IS 0.6862368406247109\n",
      "CHOSEN COLUMNS ARE [4, 2]\n",
      "CHOSEN R2 IS [0.6039902900019786, 0.7213319022236572]\n",
      "Using [4, 2, 0]\n",
      "TEST R2 FOR COLUMN 0IS 0.4640829875315003\n",
      "Using [4, 2, 1]\n",
      "TEST R2 FOR COLUMN 1IS 0.6324230864783676\n",
      "Using [4, 2, 3]\n",
      "TEST R2 FOR COLUMN 3IS 0.8123098533041858\n",
      "CHOSEN COLUMNS ARE [4, 2, 3]\n",
      "CHOSEN R2 IS [0.6039902900019786, 0.7213319022236572, 0.8123098533041858]\n",
      "Using [4, 2, 3, 0]\n",
      "TEST R2 FOR COLUMN 0IS 0.4988817528876193\n",
      "Using [4, 2, 3, 1]\n",
      "TEST R2 FOR COLUMN 1IS 0.6074977257262694\n",
      "CHOSEN COLUMNS ARE [4, 2, 3, 1]\n",
      "CHOSEN R2 IS [0.6039902900019786, 0.7213319022236572, 0.8123098533041858, 0.6074977257262694]\n",
      "Using [4, 2, 3, 1, 0]\n",
      "TEST R2 FOR COLUMN 0IS 0.47556471735217737\n",
      "CHOSEN COLUMNS ARE [4, 2, 3, 1, 0]\n",
      "CHOSEN R2 IS [0.6039902900019786, 0.7213319022236572, 0.8123098533041858, 0.6074977257262694, 0.47556471735217737]\n"
     ]
    }
   ],
   "source": [
    "seen = []\n",
    "columns = [0,1,2,3,4]\n",
    "toUse = []\n",
    "rsq = []\n",
    "stop = 0\n",
    "while(stop==0):\n",
    "    r2 = -10000\n",
    "    for i in columns:\n",
    "        toUse.append(i)\n",
    "        print(\"Using \" + str(toUse))\n",
    "        newX = X.iloc[:,toUse]\n",
    "        clf = tree.DecisionTreeRegressor(max_depth=5)\n",
    "        scores = cross_validate(clf, newX, y, cv=3, scoring=('r2', 'neg_mean_squared_error'),\n",
    "                        return_train_score=True)\n",
    "        newR2 = np.mean(scores['test_r2'])\n",
    "        print(\"TEST R2 FOR COLUMN \" + str(i) + \"IS \" + str(newR2))\n",
    "        if(newR2 > r2):\n",
    "            r2 = newR2\n",
    "            idealCol = i\n",
    "        toUse.remove(i)\n",
    "    toUse.append(idealCol)\n",
    "    print(\"CHOSEN COLUMNS ARE \" + str(toUse))\n",
    "    rsq.append(r2)\n",
    "    print(\"CHOSEN R2 IS \" + str(rsq))\n",
    "    columns.remove(idealCol)\n",
    "    if len(toUse)==5:\n",
    "        stop+=1\n",
    "        \n",
    "\n",
    "    \n",
    "        \n",
    "        \n",
    "        \n",
    "        \n",
    "    "
   ]
  },
  {
   "cell_type": "code",
   "execution_count": 30,
   "id": "c9fab6ce",
   "metadata": {
    "scrolled": true
   },
   "outputs": [
    {
     "name": "stdout",
     "output_type": "stream",
     "text": [
      "[0.6039902900019786, 0.7213319022236572, 0.8123098533041858, 0.6074977257262694, 0.47556471735217737]\n"
     ]
    },
    {
     "data": {
      "image/png": "[encoded data removed]",
      "text/plain": [
       "<Figure size 432x288 with 1 Axes>"
      ]
     },
     "metadata": {
      "needs_background": "light"
     },
     "output_type": "display_data"
    },
    {
     "data": {
      "text/plain": [
       "<Figure size 432x288 with 0 Axes>"
      ]
     },
     "metadata": {},
     "output_type": "display_data"
    }
   ],
   "source": [
    "import matplotlib.pyplot as plt\n",
    "toUseNow = [0,1,2,3,4,5]\n",
    "print(rsq)\n",
    "rsq.insert(0,0)\n",
    "plt.plot(toUseNow,rsq)\n",
    "plt.show()\n",
    "plt.savefig('4360DTgraph2.png')"
   ]
  },
  {
   "cell_type": "code",
   "execution_count": 31,
   "id": "b4cd3387",
   "metadata": {},
   "outputs": [
    {
     "name": "stdout",
     "output_type": "stream",
     "text": [
      "-0.024742620238125124\n"
     ]
    }
   ],
   "source": [
    "trueX = X.iloc[:,[3,1,2]]\n",
    "clf = tree.DecisionTreeRegressor(max_depth=5)\n",
    "scores = cross_validate(clf, trueX, y, cv=3, scoring=('r2', 'neg_mean_squared_error'),\n",
    "        return_train_score=True)\n",
    "newR2 = np.mean(scores['test_r2'])\n",
    "print(str(newR2))"
   ]
  },
  {
   "cell_type": "code",
   "execution_count": 32,
   "id": "b6c302d2",
   "metadata": {},
   "outputs": [
    {
     "data": {
      "text/plain": [
       "DecisionTreeRegressor(max_depth=5)"
      ]
     },
     "execution_count": 32,
     "metadata": {},
     "output_type": "execute_result"
    }
   ],
   "source": [
    "clf.fit(trueX,y)"
   ]
  },
  {
   "cell_type": "code",
   "execution_count": 33,
   "id": "dc2fe5c1",
   "metadata": {},
   "outputs": [
    {
     "data": {
      "text/plain": [
       "[Text(178.22327586206896, 199.32, 'X[1] <= 6084.708\\nmse = 538179434013.567\\nsamples = 1012\\nvalue = 313666.585'),\n",
       " Text(92.35862068965517, 163.07999999999998, 'X[1] <= 2194.99\\nmse = 207399475350.964\\nsamples = 968\\nvalue = 211548.156'),\n",
       " Text(46.179310344827584, 126.83999999999999, 'X[2] <= 4466.625\\nmse = 195457997686.758\\nsamples = 905\\nvalue = 176357.188'),\n",
       " Text(23.089655172413792, 90.6, 'X[1] <= 4.909\\nmse = 57513959052.637\\nsamples = 695\\nvalue = 124394.885'),\n",
       " Text(11.544827586206896, 54.359999999999985, 'X[2] <= 49.303\\nmse = 973193231.733\\nsamples = 204\\nvalue = 26860.761'),\n",
       " Text(5.772413793103448, 18.119999999999976, 'mse = 52890264.689\\nsamples = 66\\nvalue = 9381.901'),\n",
       " Text(17.317241379310346, 18.119999999999976, 'mse = 1197343914.626\\nsamples = 138\\nvalue = 35220.216'),\n",
       " Text(34.63448275862069, 54.359999999999985, 'X[1] <= 5.014\\nmse = 75410888062.007\\nsamples = 491\\nvalue = 164918.228'),\n",
       " Text(28.86206896551724, 18.119999999999976, 'mse = 2213800610.43\\nsamples = 4\\nvalue = 971847.997'),\n",
       " Text(40.40689655172414, 18.119999999999976, 'mse = 70620032198.489\\nsamples = 487\\nvalue = 158290.468'),\n",
       " Text(69.26896551724138, 90.6, 'X[0] <= 8109.083\\nmse = 613477250565.868\\nsamples = 210\\nvalue = 348327.666'),\n",
       " Text(57.72413793103448, 54.359999999999985, 'X[2] <= 12242.312\\nmse = 546783081638.174\\nsamples = 196\\nvalue = 262603.501'),\n",
       " Text(51.95172413793103, 18.119999999999976, 'mse = 1052878232722.042\\nsamples = 96\\nvalue = 413573.245'),\n",
       " Text(63.49655172413793, 18.119999999999976, 'mse = 18046566236.691\\nsamples = 100\\nvalue = 117672.547'),\n",
       " Text(80.81379310344828, 54.359999999999985, 'X[0] <= 17471.802\\nmse = 3982810117.454\\nsamples = 14\\nvalue = 1548465.971'),\n",
       " Text(75.04137931034482, 18.119999999999976, 'mse = 1731269391.861\\nsamples = 6\\nvalue = 1609215.868'),\n",
       " Text(86.58620689655172, 18.119999999999976, 'mse = 827618877.806\\nsamples = 8\\nvalue = 1502903.549'),\n",
       " Text(138.53793103448277, 126.83999999999999, 'X[2] <= 30.08\\nmse = 105598440251.469\\nsamples = 63\\nvalue = 717069.208'),\n",
       " Text(115.44827586206895, 90.6, 'X[0] <= 682.834\\nmse = 2358008874.817\\nsamples = 11\\nvalue = 1243514.691'),\n",
       " Text(103.90344827586206, 54.359999999999985, 'X[2] <= 9.587\\nmse = 1652050253.797\\nsamples = 9\\nvalue = 1228589.9'),\n",
       " Text(98.13103448275862, 18.119999999999976, 'mse = 0.0\\nsamples = 1\\nvalue = 1303134.177'),\n",
       " Text(109.67586206896551, 18.119999999999976, 'mse = 1077124602.749\\nsamples = 8\\nvalue = 1219271.865'),\n",
       " Text(126.99310344827586, 54.359999999999985, 'X[0] <= 906.87\\nmse = 21775363.623\\nsamples = 2\\nvalue = 1310676.25'),\n",
       " Text(121.22068965517241, 18.119999999999976, 'mse = 0.0\\nsamples = 1\\nvalue = 1315342.658'),\n",
       " Text(132.7655172413793, 18.119999999999976, 'mse = 0.0\\nsamples = 1\\nvalue = 1306009.842'),\n",
       " Text(161.62758620689655, 90.6, 'X[0] <= 273.438\\nmse = 56409146132.066\\nsamples = 52\\nvalue = 605705.741'),\n",
       " Text(150.08275862068965, 54.359999999999985, 'X[1] <= 4578.854\\nmse = 41529777267.907\\nsamples = 40\\nvalue = 531734.534'),\n",
       " Text(144.3103448275862, 18.119999999999976, 'mse = 25612107170.252\\nsamples = 37\\nvalue = 569739.896'),\n",
       " Text(155.8551724137931, 18.119999999999976, 'mse = 322910576.325\\nsamples = 3\\nvalue = 63001.734'),\n",
       " Text(173.17241379310343, 54.359999999999985, 'X[2] <= 3527.187\\nmse = 26970805968.26\\nsamples = 12\\nvalue = 852276.431'),\n",
       " Text(167.4, 18.119999999999976, 'mse = 6907205838.84\\nsamples = 9\\nvalue = 926321.724'),\n",
       " Text(178.94482758620688, 18.119999999999976, 'mse = 21369139653.199\\nsamples = 3\\nvalue = 630140.549'),\n",
       " Text(264.0879310344827, 163.07999999999998, 'X[2] <= 7275.878\\nmse = 2538682788483.35\\nsamples = 44\\nvalue = 2560272.006'),\n",
       " Text(230.8965517241379, 126.83999999999999, 'X[2] <= 578.958\\nmse = 1717624265513.062\\nsamples = 29\\nvalue = 1709295.897'),\n",
       " Text(207.80689655172412, 90.6, 'X[0] <= 167.221\\nmse = 1310890837168.307\\nsamples = 20\\nvalue = 2291806.274'),\n",
       " Text(196.26206896551724, 54.359999999999985, 'X[1] <= 6853.611\\nmse = 22966988669.895\\nsamples = 9\\nvalue = 3552431.684'),\n",
       " Text(190.4896551724138, 18.119999999999976, 'mse = 6644422331.152\\nsamples = 6\\nvalue = 3459375.688'),\n",
       " Text(202.03448275862067, 18.119999999999976, 'mse = 3655610687.885\\nsamples = 3\\nvalue = 3738543.677'),\n",
       " Text(219.35172413793103, 54.359999999999985, 'X[2] <= 7.069\\nmse = 582612163.012\\nsamples = 11\\nvalue = 1260385.485'),\n",
       " Text(213.57931034482758, 18.119999999999976, 'mse = 337480193.713\\nsamples = 6\\nvalue = 1242842.985'),\n",
       " Text(225.12413793103448, 18.119999999999976, 'mse = 64338767.498\\nsamples = 5\\nvalue = 1281436.485'),\n",
       " Text(253.98620689655172, 90.6, 'X[0] <= 801.124\\nmse = 191789448087.84\\nsamples = 9\\nvalue = 414828.391'),\n",
       " Text(242.44137931034481, 54.359999999999985, 'X[1] <= 6275.562\\nmse = 32694987.392\\nsamples = 5\\nvalue = 23166.327'),\n",
       " Text(236.66896551724136, 18.119999999999976, 'mse = 0.0\\nsamples = 1\\nvalue = 33823.325'),\n",
       " Text(248.21379310344827, 18.119999999999976, 'mse = 5377607.142\\nsamples = 4\\nvalue = 20502.078'),\n",
       " Text(265.5310344827586, 54.359999999999985, 'X[0] <= 1696.87\\nmse = 50218146.68\\nsamples = 4\\nvalue = 904405.97'),\n",
       " Text(259.7586206896552, 18.119999999999976, 'mse = 344159.163\\nsamples = 3\\nvalue = 900325.119'),\n",
       " Text(271.3034482758621, 18.119999999999976, 'mse = -0.0\\nsamples = 1\\nvalue = 916648.522'),\n",
       " Text(297.2793103448276, 126.83999999999999, 'X[1] <= 8388.922\\nmse = 19268853500.727\\nsamples = 15\\nvalue = 4205492.485'),\n",
       " Text(282.84827586206893, 90.6, 'X[2] <= 15012.304\\nmse = 3565935864.436\\nsamples = 2\\nvalue = 3887590.828'),\n",
       " Text(277.07586206896553, 54.359999999999985, 'mse = 0.0\\nsamples = 1\\nvalue = 3947306.286'),\n",
       " Text(288.6206896551724, 54.359999999999985, 'mse = 0.0\\nsamples = 1\\nvalue = 3827875.371'),\n",
       " Text(311.7103448275862, 90.6, 'X[2] <= 18227.513\\nmse = 3744782264.684\\nsamples = 13\\nvalue = 4254400.432'),\n",
       " Text(300.1655172413793, 54.359999999999985, 'X[2] <= 13859.943\\nmse = 2216088436.762\\nsamples = 8\\nvalue = 4217424.367'),\n",
       " Text(294.39310344827584, 18.119999999999976, 'mse = 0.0\\nsamples = 1\\nvalue = 4316004.388'),\n",
       " Text(305.93793103448274, 18.119999999999976, 'mse = 946056912.809\\nsamples = 7\\nvalue = 4203341.507'),\n",
       " Text(323.2551724137931, 54.359999999999985, 'X[2] <= 18302.846\\nmse = 503018200.898\\nsamples = 5\\nvalue = 4313562.136'),\n",
       " Text(317.48275862068965, 18.119999999999976, 'mse = 0.0\\nsamples = 1\\nvalue = 4271310.213'),\n",
       " Text(329.02758620689656, 18.119999999999976, 'mse = 70889939.496\\nsamples = 4\\nvalue = 4324125.117')]"
      ]
     },
     "execution_count": 33,
     "metadata": {},
     "output_type": "execute_result"
    },
    {
     "data": {
      "image/png": "[encoded data removed]",
      "text/plain": [
       "<Figure size 432x288 with 1 Axes>"
      ]
     },
     "metadata": {
      "needs_background": "light"
     },
     "output_type": "display_data"
    }
   ],
   "source": [
    "tree.plot_tree(clf)"
   ]
  },
  {
   "cell_type": "code",
   "execution_count": null,
   "id": "ec5aba1b",
   "metadata": {},
   "outputs": [],
   "source": []
  }
 ],
 "metadata": {
  "kernelspec": {
   "display_name": "Python 3",
   "language": "python",
   "name": "python3"
  },
  "language_info": {
   "codemirror_mode": {
    "name": "ipython",
    "version": 3
   },
   "file_extension": ".py",
   "mimetype": "text/x-python",
   "name": "python",
   "nbconvert_exporter": "python",
   "pygments_lexer": "ipython3",
   "version": "3.8.8"
  }
 },
 "nbformat": 4,
 "nbformat_minor": 5
}
