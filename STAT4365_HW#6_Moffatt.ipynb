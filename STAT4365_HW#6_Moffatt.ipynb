{
 "cells": [
  {
   "cell_type": "code",
   "execution_count": 3,
   "id": "e0939621",
   "metadata": {},
   "outputs": [],
   "source": [
    "import numpy as np\n",
    "import pandas as pd\n",
    "import scipy.stats as stats\n",
    "import math\n",
    "import statistics\n",
    "from scipy.special import stdtr\n",
    "from scipy.stats import ttest_ind, ttest_ind_from_stats\n",
    "from numpy.random import seed\n",
    "from numpy.random import randn\n",
    "from numpy import random\n",
    "from scipy.stats import t "
   ]
  },
  {
   "cell_type": "code",
   "execution_count": 4,
   "id": "3d055857",
   "metadata": {},
   "outputs": [],
   "source": [
    "#Question 1\n",
    "\n",
    "def median(ls):                     \n",
    "    if(len(ls)%2==0):               \n",
    "        x = (ls[len(ls)//2] + ls[(len(ls)//2)-1])/2  \n",
    "        return x                                     \n",
    "    else:                           \n",
    "        return ls[len(ls)//2]       "
   ]
  },
  {
   "cell_type": "code",
   "execution_count": 5,
   "id": "9e409c7c",
   "metadata": {},
   "outputs": [],
   "source": [
    "def quartile(ls):                   \n",
    "    ls.sort()                       \n",
    "    right = []                      \n",
    "    left = []\n",
    "    if(len(ls)%2==0):               \n",
    "        left = ls[:(len(ls)//2)]    \n",
    "        right = ls[len(ls)//2:]     \n",
    "        q1 = median(left)           \n",
    "        q3 = median(right)\n",
    "    else:                           \n",
    "        left = ls[:(len(ls)//2)]    \n",
    "        right = ls[(len(ls)//2)+1:] \n",
    "        q1 = median(left)\n",
    "        q3 = median(right)          \n",
    "    \n",
    "    print(f\"The first quartile is: {q1}\")   \n",
    "    print(f\"The third quartile is: {q3}\")"
   ]
  },
  {
   "cell_type": "code",
   "execution_count": 6,
   "id": "6be67791",
   "metadata": {},
   "outputs": [
    {
     "name": "stdout",
     "output_type": "stream",
     "text": [
      "The median/second quartile is: 3\n",
      "The first quartile is: 1.5\n",
      "The third quartile is: 4.5\n"
     ]
    }
   ],
   "source": [
    "array = [1,2,3,4,5]                 \n",
    "med = median(array)                 \n",
    "print(f\"The median/second quartile is: {med}\")  \n",
    "quartile(array)  "
   ]
  },
  {
   "cell_type": "code",
   "execution_count": 7,
   "id": "dde5f5c1",
   "metadata": {},
   "outputs": [],
   "source": [
    "#Question 2\n",
    "\n",
    "np.random.seed(1)\n",
    "x = np.random.randn(10)\n",
    "y = np.random.randn(10)\n",
    "#alternative = 'two-sided'\n",
    "#mean = 4\n",
    "\n",
    "def my_ttest(x, y, mean, alternative=\"two-sided\"):\n",
    "    \n",
    "    grt = x.mean()\n",
    "    grt_x = x.var(ddof=1)\n",
    "    nx = x.size\n",
    "    adof = nx - 1\n",
    "\n",
    "    lwr = y.mean()\n",
    "    grt_y = y.var(ddof=1)\n",
    "    ny = y.size\n",
    "    bdof = ny - 1\n",
    "\n",
    "    tf = (grt - lwr) / np.sqrt(grt_x/nx + grt_y/ny)\n",
    "    dof = (grt_x/nx + grt_y/ny)*2 / (grt_x*2/(nx*2*adof) + grt_y*2/(ny*2*bdof))\n",
    "    pf = 2*stdtr(dof, -np.abs(tf))\n",
    "    \n",
    "    if alternative == \"less\":\n",
    "        pf = stdtr(dof, -np.abs(tf))\n",
    "            \n",
    "        \n",
    "    elif alternative == \"greater\":\n",
    "        pf = 1 - stdtr(dof, -np.abs(tf))\n",
    "\n",
    "    else:\n",
    "        pf = 2*stdtr(dof, -np.abs(tf))\n",
    "\n",
    "    print(\"formula:              t = %g  p = %g\" % (tf, pf))"
   ]
  },
  {
   "cell_type": "code",
   "execution_count": 8,
   "id": "fd047ca3",
   "metadata": {},
   "outputs": [
    {
     "name": "stdout",
     "output_type": "stream",
     "text": [
      "formula:              t = 0.709615  p = 0.243517\n"
     ]
    }
   ],
   "source": [
    "x = np.random.randn(10)\n",
    "y = np.random.randn(10)\n",
    "alternative = \"less\"\n",
    "mean = 4\n",
    "\n",
    "my_ttest(x,y,mean,alternative)"
   ]
  },
  {
   "cell_type": "code",
   "execution_count": 7,
   "id": "e59bb094",
   "metadata": {},
   "outputs": [
    {
     "name": "stdout",
     "output_type": "stream",
     "text": [
      "ttest_ind:            t = 0.139814  p = 0.890406\n"
     ]
    }
   ],
   "source": [
    "#Testing\n",
    "\n",
    "np.random.seed(1)\n",
    "x = np.random.randn(10)\n",
    "y = np.random.randn(10)\n",
    "\n",
    "# Use scipy.stats.ttest_ind.\n",
    "t, p = ttest_ind(x, y, equal_var=False)\n",
    "print(\"ttest_ind:            t = %g  p = %g\" % (t, p))"
   ]
  },
  {
   "cell_type": "code",
   "execution_count": 19,
   "id": "6ff741a4",
   "metadata": {},
   "outputs": [
    {
     "name": "stdout",
     "output_type": "stream",
     "text": [
      "ttest_ind_from_stats: t = 0.139814  p = 0.890406\n"
     ]
    }
   ],
   "source": [
    "#Testing \n",
    "\n",
    "np.random.seed(1)\n",
    "x = np.random.randn(10)\n",
    "y = np.random.randn(10)\n",
    "\n",
    "    \n",
    "grt = x.mean()\n",
    "grt_x = x.var(ddof=1)\n",
    "nx = x.size\n",
    "adof = nx - 1\n",
    "\n",
    "lwr = y.mean()\n",
    "grt_y = y.var(ddof=1)\n",
    "ny = y.size\n",
    "bdof = ny - 1\n",
    "\n",
    "# Use scipy.stats.ttest_ind_from_stats.\n",
    "t2, p2 = ttest_ind_from_stats(grt, np.sqrt(grt_x), nx,\n",
    "                              lwr, np.sqrt(grt_y), ny,\n",
    "                              equal_var=False)\n",
    "print(\"ttest_ind_from_stats: t = %g  p = %g\" % (t2, p2))"
   ]
  }
 ],
 "metadata": {
  "kernelspec": {
   "display_name": "Python 3 (ipykernel)",
   "language": "python",
   "name": "python3"
  },
  "language_info": {
   "codemirror_mode": {
    "name": "ipython",
    "version": 3
   },
   "file_extension": ".py",
   "mimetype": "text/x-python",
   "name": "python",
   "nbconvert_exporter": "python",
   "pygments_lexer": "ipython3",
   "version": "3.9.7"
  }
 },
 "nbformat": 4,
 "nbformat_minor": 5
}
